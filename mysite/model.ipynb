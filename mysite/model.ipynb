{
 "cells": [
  {
   "cell_type": "raw",
   "metadata": {},
   "source": [
    "---\n",
    "title: Using the model\n",
    "format: \n",
    "  html:\n",
    "    code-fold: false\n",
    "jupyter: python3\n",
    "---"
   ]
  },
  {
   "cell_type": "markdown",
   "metadata": {},
   "source": [
    "## Imports"
   ]
  },
  {
   "cell_type": "code",
   "execution_count": 3,
   "metadata": {},
   "outputs": [],
   "source": [
    "from ciw_model import (Experiment, \n",
    "                       multiple_replications)"
   ]
  },
  {
   "cell_type": "markdown",
   "metadata": {},
   "source": [
    "## Default run of the model"
   ]
  },
  {
   "cell_type": "code",
   "execution_count": 4,
   "metadata": {},
   "outputs": [
    {
     "data": {
      "text/html": [
       "<div>\n",
       "<style scoped>\n",
       "    .dataframe tbody tr th:only-of-type {\n",
       "        vertical-align: middle;\n",
       "    }\n",
       "\n",
       "    .dataframe tbody tr th {\n",
       "        vertical-align: top;\n",
       "    }\n",
       "\n",
       "    .dataframe thead th {\n",
       "        text-align: right;\n",
       "    }\n",
       "</style>\n",
       "<table border=\"1\" class=\"dataframe\">\n",
       "  <thead>\n",
       "    <tr style=\"text-align: right;\">\n",
       "      <th></th>\n",
       "      <th>01_mean_waiting_time</th>\n",
       "      <th>02_operator_util</th>\n",
       "      <th>03_mean_nurse_waiting_time</th>\n",
       "      <th>04_nurse_util</th>\n",
       "    </tr>\n",
       "    <tr>\n",
       "      <th>rep</th>\n",
       "      <th></th>\n",
       "      <th></th>\n",
       "      <th></th>\n",
       "      <th></th>\n",
       "    </tr>\n",
       "  </thead>\n",
       "  <tbody>\n",
       "    <tr>\n",
       "      <th>1</th>\n",
       "      <td>6.005499</td>\n",
       "      <td>91.928794</td>\n",
       "      <td>60.994290</td>\n",
       "      <td>96.793678</td>\n",
       "    </tr>\n",
       "    <tr>\n",
       "      <th>2</th>\n",
       "      <td>3.436175</td>\n",
       "      <td>93.851200</td>\n",
       "      <td>50.258184</td>\n",
       "      <td>97.562439</td>\n",
       "    </tr>\n",
       "    <tr>\n",
       "      <th>3</th>\n",
       "      <td>4.412817</td>\n",
       "      <td>93.088917</td>\n",
       "      <td>35.598748</td>\n",
       "      <td>97.699318</td>\n",
       "    </tr>\n",
       "    <tr>\n",
       "      <th>4</th>\n",
       "      <td>3.570211</td>\n",
       "      <td>92.099729</td>\n",
       "      <td>67.129446</td>\n",
       "      <td>95.582776</td>\n",
       "    </tr>\n",
       "    <tr>\n",
       "      <th>5</th>\n",
       "      <td>4.289557</td>\n",
       "      <td>96.596610</td>\n",
       "      <td>73.653389</td>\n",
       "      <td>97.551187</td>\n",
       "    </tr>\n",
       "  </tbody>\n",
       "</table>\n",
       "</div>"
      ],
      "text/plain": [
       "     01_mean_waiting_time  02_operator_util  03_mean_nurse_waiting_time  \\\n",
       "rep                                                                       \n",
       "1                6.005499         91.928794                   60.994290   \n",
       "2                3.436175         93.851200                   50.258184   \n",
       "3                4.412817         93.088917                   35.598748   \n",
       "4                3.570211         92.099729                   67.129446   \n",
       "5                4.289557         96.596610                   73.653389   \n",
       "\n",
       "     04_nurse_util  \n",
       "rep                 \n",
       "1        96.793678  \n",
       "2        97.562439  \n",
       "3        97.699318  \n",
       "4        95.582776  \n",
       "5        97.551187  "
      ]
     },
     "execution_count": 4,
     "metadata": {},
     "output_type": "execute_result"
    }
   ],
   "source": [
    "#| label: default_exp\n",
    "#| fig-cap: \"Replications\"\n",
    "\n",
    "default_experiment = Experiment()\n",
    "results = multiple_replications(default_experiment)\n",
    "results"
   ]
  },
  {
   "cell_type": "code",
   "execution_count": null,
   "metadata": {},
   "outputs": [],
   "source": []
  }
 ],
 "metadata": {
  "kernelspec": {
   "display_name": "Python 3 (ipykernel)",
   "language": "python",
   "name": "python3"
  },
  "language_info": {
   "codemirror_mode": {
    "name": "ipython",
    "version": 3
   },
   "file_extension": ".py",
   "mimetype": "text/x-python",
   "name": "python",
   "nbconvert_exporter": "python",
   "pygments_lexer": "ipython3",
   "version": "3.9.16"
  }
 },
 "nbformat": 4,
 "nbformat_minor": 4
}
